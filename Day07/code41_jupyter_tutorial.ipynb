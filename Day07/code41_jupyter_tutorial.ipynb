{
 "cells": [
  {
   "attachments": {},
   "cell_type": "markdown",
   "metadata": {},
   "source": [
    "# 주피터 노트북 사용법 학습\n",
    "\n",
    "## 마크다운, 파이썬 셀을 추가 : 단축키\n",
    "- 현재 셀 앞에 셀 추가 : a\n",
    "- 현재 셀 뒤에 셀 추가 : b\n",
    "- 현재 셀을 마크다운으로 변경 : 포커스(커서가 깜빡거리지 않는 [esc누르면됨] )만 있는 상태 m\n",
    "- 현재 셀을 코드 셀로 변경 : 포커스 상태 y"
   ]
  },
  {
   "cell_type": "code",
   "execution_count": 4,
   "metadata": {},
   "outputs": [],
   "source": [
    "# 최초 작성된 Python 셀"
   ]
  },
  {
   "attachments": {},
   "cell_type": "markdown",
   "metadata": {},
   "source": [
    "## 파이썬 셀 실행\n",
    "- 셀 실행 : Ctrl + Enter\n",
    "- 셀 실행, 다음 셀 이동(다음 셀 없으면 생성) : Shift + Enter\n",
    "- 셀 실행, 다음 셀 생성 : Alt + Enter\n",
    "- 주석 처리 : Ctrl + / 또는 Ctrl + K,C"
   ]
  },
  {
   "cell_type": "code",
   "execution_count": 5,
   "metadata": {},
   "outputs": [
    {
     "name": "stdout",
     "output_type": "stream",
     "text": [
      "Hello, Jupyter!!\n"
     ]
    }
   ],
   "source": [
    "print('Hello, Jupyter!!')"
   ]
  },
  {
   "attachments": {},
   "cell_type": "markdown",
   "metadata": {},
   "source": [
    "## 디버깅\n",
    "- Ctrl + Alt + Shift + Enter"
   ]
  },
  {
   "cell_type": "code",
   "execution_count": 1,
   "metadata": {},
   "outputs": [
    {
     "name": "stdout",
     "output_type": "stream",
     "text": [
      "1\n",
      "2\n",
      "True\n",
      "Hello\n",
      "3.1415926585\n"
     ]
    }
   ],
   "source": [
    "arr = [1, '2', True, 'Hello', 3.1415926585]\n",
    "\n",
    "for i in arr:\n",
    "    print(i)"
   ]
  },
  {
   "attachments": {},
   "cell_type": "markdown",
   "metadata": {},
   "source": [
    "### 함수 디버깅"
   ]
  },
  {
   "cell_type": "code",
   "execution_count": 8,
   "metadata": {},
   "outputs": [
    {
     "name": "stdout",
     "output_type": "stream",
     "text": [
      "더하기\n",
      "14\n"
     ]
    }
   ],
   "source": [
    "def plus(x, y):\n",
    "    val = x + y\n",
    "    return val\n",
    "\n",
    "def div(x, y):\n",
    "    val = x / y\n",
    "    return val\n",
    "\n",
    "print('더하기')\n",
    "print(plus(10, 4))"
   ]
  },
  {
   "cell_type": "code",
   "execution_count": 21,
   "metadata": {},
   "outputs": [
    {
     "name": "stdout",
     "output_type": "stream",
     "text": [
      "나누기\n",
      "2.5\n"
     ]
    }
   ],
   "source": [
    "print('나누기')\n",
    "print(div(10, 4))"
   ]
  },
  {
   "cell_type": "code",
   "execution_count": 14,
   "metadata": {},
   "outputs": [
    {
     "name": "stdout",
     "output_type": "stream",
     "text": [
      "[1, '2', True, 'Hello', 3.1415926585]\n"
     ]
    }
   ],
   "source": [
    "print(arr)"
   ]
  },
  {
   "cell_type": "code",
   "execution_count": 17,
   "metadata": {},
   "outputs": [
    {
     "data": {
      "text/plain": [
       "[1, '2', True, 'Hello', 3.1415926585]"
      ]
     },
     "execution_count": 17,
     "metadata": {},
     "output_type": "execute_result"
    }
   ],
   "source": [
    "arr"
   ]
  },
  {
   "attachments": {},
   "cell_type": "markdown",
   "metadata": {},
   "source": [
    "### list(array) for문 예제"
   ]
  },
  {
   "cell_type": "code",
   "execution_count": 19,
   "metadata": {},
   "outputs": [
    {
     "name": "stdout",
     "output_type": "stream",
     "text": [
      "0 = 1\n",
      "1 = 2\n",
      "2 = True\n",
      "3 = Hello\n",
      "4 = 3.1415926585\n"
     ]
    }
   ],
   "source": [
    "for i, item in enumerate(arr):\n",
    "    print(f'{i} = {item}')"
   ]
  }
 ],
 "metadata": {
  "kernelspec": {
   "display_name": "venv",
   "language": "python",
   "name": "python3"
  },
  "language_info": {
   "codemirror_mode": {
    "name": "ipython",
    "version": 3
   },
   "file_extension": ".py",
   "mimetype": "text/x-python",
   "name": "python",
   "nbconvert_exporter": "python",
   "pygments_lexer": "ipython3",
   "version": "3.11.1"
  },
  "orig_nbformat": 4,
  "vscode": {
   "interpreter": {
    "hash": "2e858f6a62af7500a4fce304b323919e2ee47672e0170b223d92c0ac73e14920"
   }
  }
 },
 "nbformat": 4,
 "nbformat_minor": 2
}
